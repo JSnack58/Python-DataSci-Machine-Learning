{
 "cells": [
  {
   "cell_type": "code",
   "execution_count": 21,
   "metadata": {},
   "outputs": [
    {
     "name": "stdout",
     "output_type": "stream",
     "text": [
      "1\n",
      "[1 2 3 4]\n",
      "[0 1 2 3 4 5]\n",
      "[ 5  6  7  8  9 10]\n",
      "[0 1 2 3 4 5]\n",
      "[99 99 99 99 99 99]\n",
      "[99 99 99 99 99 99  6  7  8  9 10]\n",
      "[99 99 99 99 99 99  6  7  8  9 10]\n",
      "[99 99 99 99 99 99  6  7  8  9 10]\n",
      "[100 100 100 100 100 100 100 100 100 100 100]\n",
      "[99 99 99 99 99 99  6  7  8  9 10]\n"
     ]
    }
   ],
   "source": [
    "import numpy as np\n",
    "\n",
    "arr = np.arange(0,11)\n",
    "print(arr[1])\n",
    "print(arr[1:5])\n",
    "print(arr[:6])\n",
    "print(arr[5:])\n",
    "\n",
    "slice_of_arr = arr[0:6]\n",
    "\n",
    "print(slice_of_arr)\n",
    "\n",
    "slice_of_arr[:] = 99\n",
    "print(slice_of_arr)\n",
    "\n",
    "print(arr)#slice_of_arr points to the portion of arr\n",
    "\n",
    "#for a copy use .copy() method\n",
    "arr_copy = arr.copy()\n",
    "print(arr_copy)\n",
    "\n",
    "print(arr)\n",
    "\n",
    "arr_copy[:] = 100\n",
    "print(arr_copy)\n",
    "\n",
    "print(arr)"
   ]
  },
  {
   "cell_type": "code",
   "execution_count": 24,
   "metadata": {},
   "outputs": [
    {
     "data": {
      "text/plain": [
       "array([[ 5, 10, 15],\n",
       "       [20, 25, 30],\n",
       "       [35, 40, 45]])"
      ]
     },
     "execution_count": 24,
     "metadata": {},
     "output_type": "execute_result"
    }
   ],
   "source": [
    "arr_2d = np.array([[5,10,15],[20,25,30],[35,40,45]])\n",
    "arr_2d"
   ]
  },
  {
   "cell_type": "code",
   "execution_count": 28,
   "metadata": {},
   "outputs": [
    {
     "name": "stdout",
     "output_type": "stream",
     "text": [
      "25\n",
      "25\n",
      "[[10 15]\n",
      " [25 30]]\n"
     ]
    }
   ],
   "source": [
    "#double brakect format\n",
    "#arr2d[row] = array\n",
    "#arr2d[row][col] = position value\n",
    "print(arr_2d[1][1])\n",
    "\n",
    "#single bracket format\n",
    "#arr2d[row,col]\n",
    "print(arr_2d[1,1])\n",
    "\n",
    "#grabbing section\n",
    "#top right corner\n",
    "print(arr_2d[:2,1:])\n",
    "\n"
   ]
  },
  {
   "cell_type": "code",
   "execution_count": 35,
   "metadata": {},
   "outputs": [
    {
     "name": "stdout",
     "output_type": "stream",
     "text": [
      "[ 1  2  3  4  5  6  7  8  9 10]\n",
      "boolean arr  [False False False False False  True  True  True  True  True]\n",
      "a:  [ 6  7  8  9 10]\n"
     ]
    }
   ],
   "source": [
    "#conditional selection\n",
    "a = np.arange(1,11)\n",
    "print(a)\n",
    "bool_arr = a > 5\n",
    "print(\"boolean arr \",bool_arr)\n",
    "print(\"a: \",a[bool_arr])"
   ]
  }
 ],
 "metadata": {
  "kernelspec": {
   "display_name": "Python 3",
   "language": "python",
   "name": "python3"
  },
  "language_info": {
   "codemirror_mode": {
    "name": "ipython",
    "version": 3
   },
   "file_extension": ".py",
   "mimetype": "text/x-python",
   "name": "python",
   "nbconvert_exporter": "python",
   "pygments_lexer": "ipython3",
   "version": "3.8.5"
  }
 },
 "nbformat": 4,
 "nbformat_minor": 4
}
