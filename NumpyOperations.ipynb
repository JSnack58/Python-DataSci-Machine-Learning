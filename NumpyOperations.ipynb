{
 "cells": [
  {
   "cell_type": "code",
   "execution_count": 2,
   "metadata": {},
   "outputs": [],
   "source": [
    "import numpy as np\n"
   ]
  },
  {
   "cell_type": "code",
   "execution_count": 5,
   "metadata": {},
   "outputs": [
    {
     "data": {
      "text/plain": [
       "array([ 0,  1,  2,  3,  4,  5,  6,  7,  8,  9, 10])"
      ]
     },
     "execution_count": 5,
     "metadata": {},
     "output_type": "execute_result"
    }
   ],
   "source": [
    "#arra with array\n",
    "arr = np.arange(0,11)\n",
    "arr"
   ]
  },
  {
   "cell_type": "code",
   "execution_count": 18,
   "metadata": {},
   "outputs": [
    {
     "name": "stdout",
     "output_type": "stream",
     "text": [
      "arr + arr = [ 0  2  4  6  8 10 12 14 16 18 20]\n",
      "arr - arr = [0 0 0 0 0 0 0 0 0 0 0]\n",
      "arr * arr = [  0   1   4   9  16  25  36  49  64  81 100]\n",
      "arr + 100 =  [100 101 102 103 104 105 106 107 108 109 110]\n",
      "arr - 100 =  [-100  -99  -98  -97  -96  -95  -94  -93  -92  -91  -90]\n",
      "arr * 100 =  [   0  100  200  300  400  500  600  700  800  900 1000]\n",
      "arr / 100 = [0.   0.01 0.02 0.03 0.04 0.05 0.06 0.07 0.08 0.09 0.1 ]\n",
      "100 / arr = [         inf 100.          50.          33.33333333  25.\n",
      "  20.          16.66666667  14.28571429  12.5         11.11111111\n",
      "  10.        ]\n",
      "arr ** 2 = [  0   1   4   9  16  25  36  49  64  81 100]\n"
     ]
    },
    {
     "name": "stderr",
     "output_type": "stream",
     "text": [
      "<ipython-input-18-5df9bf4fccbb>:16: RuntimeWarning: divide by zero encountered in true_divide\n",
      "  print(\"100 / arr =\", 100/arr)\n"
     ]
    }
   ],
   "source": [
    "#addition\n",
    "print(\"arr + arr =\",arr + arr)\n",
    "#subtraction\n",
    "print(\"arr - arr =\",arr - arr)\n",
    "#multiplication NOTE: products of respective indicies\n",
    "print(\"arr * arr =\",arr * arr)\n",
    "#scalar addition\n",
    "print(\"arr + 100 = \", arr + 100)\n",
    "#scalar subtraction\n",
    "print(\"arr - 100 = \",arr - 100)\n",
    "#scalar mulitiplication\n",
    "print(\"arr * 100 = \",arr * 100)\n",
    "#scalar division\n",
    "print(\"arr / 100 =\",arr / 100)\n",
    "#divide by zero error: wil replace 100/0 with inf.\n",
    "print(\"100 / arr =\", 100/arr)\n",
    "#scalar exponents\n",
    "print(\"arr ** 2 =\",arr ** 2)"
   ]
  },
  {
   "cell_type": "code",
   "execution_count": 22,
   "metadata": {},
   "outputs": [
    {
     "name": "stdout",
     "output_type": "stream",
     "text": [
      "np.sqrt(arr) = [0.         1.         1.41421356 1.73205081 2.         2.23606798\n",
      " 2.44948974 2.64575131 2.82842712 3.         3.16227766]\n",
      "np.exp(arr) = [1.00000000e+00 2.71828183e+00 7.38905610e+00 2.00855369e+01\n",
      " 5.45981500e+01 1.48413159e+02 4.03428793e+02 1.09663316e+03\n",
      " 2.98095799e+03 8.10308393e+03 2.20264658e+04]\n",
      "np.max(arr) = 10\n",
      "np.sin(arr) = [ 0.          0.84147098  0.90929743  0.14112001 -0.7568025  -0.95892427\n",
      " -0.2794155   0.6569866   0.98935825  0.41211849 -0.54402111]\n",
      "np.cos(arr) = [ 1.          0.54030231 -0.41614684 -0.9899925  -0.65364362  0.28366219\n",
      "  0.96017029  0.75390225 -0.14550003 -0.91113026 -0.83907153]\n",
      "np.tan(arr) = [ 0.          1.55740772 -2.18503986 -0.14254654  1.15782128 -3.38051501\n",
      " -0.29100619  0.87144798 -6.79971146 -0.45231566  0.64836083]\n"
     ]
    }
   ],
   "source": [
    "#numpy array operation: square root of all elements in array\n",
    "print(\"np.sqrt(arr) =\",np.sqrt(arr))\n",
    "#numpy array operation: square root of all elements in array\n",
    "print(\"np.exp(arr) =\",np.exp(arr))\n",
    "#max\n",
    "print(\"np.max(arr) =\",np.max(arr))\n",
    "#trig functions\n",
    "print(\"np.sin(arr) =\",np.sin(arr))\n",
    "print(\"np.cos(arr) =\",np.cos(arr))\n",
    "print(\"np.tan(arr) =\",np.tan(arr))"
   ]
  }
 ],
 "metadata": {
  "kernelspec": {
   "display_name": "Python 3",
   "language": "python",
   "name": "python3"
  },
  "language_info": {
   "codemirror_mode": {
    "name": "ipython",
    "version": 3
   },
   "file_extension": ".py",
   "mimetype": "text/x-python",
   "name": "python",
   "nbconvert_exporter": "python",
   "pygments_lexer": "ipython3",
   "version": "3.8.5"
  }
 },
 "nbformat": 4,
 "nbformat_minor": 4
}
